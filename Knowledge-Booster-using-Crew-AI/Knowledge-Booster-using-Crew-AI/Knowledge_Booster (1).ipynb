{
  "nbformat": 4,
  "nbformat_minor": 0,
  "metadata": {
    "colab": {
      "provenance": []
    },
    "kernelspec": {
      "name": "python3",
      "display_name": "Python 3"
    },
    "language_info": {
      "name": "python"
    }
  },
  "cells": [
    {
      "cell_type": "markdown",
      "source": [
        "# Knowledge Booster"
      ],
      "metadata": {
        "id": "Yqi0cKAza0E5"
      }
    },
    {
      "cell_type": "markdown",
      "source": [
        "## Description:\n",
        "\n",
        "Knowledge Booster is an AI-powered educational assistant that uses CrewAI agents enhanced with Gemini, Cohere, and Serper tools to find high-quality resources—books, podcasts, and YouTube videos—on any topic you choose. Whether you're diving into artificial intelligence or brushing up on football history, this app curates tailored content from across the web and presents it in a neatly formatted markdown report."
      ],
      "metadata": {
        "id": "x3MJ3gyp7CR6"
      }
    },
    {
      "cell_type": "code",
      "source": [
        "# !pip install -U crewai crewai_tools langchain_community cohere google-generativeai"
      ],
      "metadata": {
        "collapsed": true,
        "id": "M6I_SY1OYQV7"
      },
      "execution_count": null,
      "outputs": []
    },
    {
      "cell_type": "code",
      "source": [
        "import os\n",
        "import sys\n",
        "import warnings\n",
        "warnings.filterwarnings('ignore')\n",
        "sys.setrecursionlimit(5000)\n"
      ],
      "metadata": {
        "id": "EM_cSqh_YVTv"
      },
      "execution_count": 2,
      "outputs": []
    },
    {
      "cell_type": "markdown",
      "source": [
        "### Just for test APIS & connections"
      ],
      "metadata": {
        "id": "v6_YOHJE7U4G"
      }
    },
    {
      "cell_type": "code",
      "source": [
        "#API KEYS\n",
        "from google.colab import userdata\n",
        "os.environ[\"GEMINI_API_KEY\"] = userdata.get(\"gemini_api\")\n",
        "os.environ[\"COHERE_API_KEY\"] = userdata.get(\"cohere_api\")\n",
        "os.environ[\"SERPER_API_KEY\"] = userdata.get(\"serper_api\")\n",
        "\n",
        "#CONFIGURE APIS\n",
        "import google.generativeai as genai\n",
        "import cohere\n",
        "\n",
        "genai.configure(api_key=os.environ[\"GEMINI_API_KEY\"])\n",
        "co = cohere.Client(os.environ[\"COHERE_API_KEY\"])\n",
        "\n",
        "from crewai import Crew, Agent, Task, LLM\n",
        "from crewai_tools import SerperDevTool\n",
        "from crewai.tools import BaseTool\n",
        "\n",
        "# Test APIs\n",
        "print(\"Gemini:\", genai.GenerativeModel('gemini-1.5-flash').generate_content(\"Hello!\").text)\n",
        "print(\"Cohere:\", co.generate(model='command', prompt=\"Hi from cohere!\", max_tokens=20).generations[0].text)\n"
      ],
      "metadata": {
        "colab": {
          "base_uri": "https://localhost:8080/",
          "height": 70
        },
        "id": "K-XxLLpaYqoB",
        "outputId": "d33521ce-d320-4308-8ccf-192981711e1c"
      },
      "execution_count": 3,
      "outputs": [
        {
          "output_type": "stream",
          "name": "stdout",
          "text": [
            "Gemini: Hello there! How can I help you today?\n",
            "\n",
            "Cohere:  Hi there! I'm your friendly AI-assistant chatbot, and I'm ready to answer your questions\n"
          ]
        }
      ]
    },
    {
      "cell_type": "markdown",
      "source": [
        "### LLMs and Tools"
      ],
      "metadata": {
        "id": "xnxbxOmP7XOV"
      }
    },
    {
      "cell_type": "code",
      "source": [
        "# LLMs\n",
        "gemini_llm = LLM(provider=\"google_ai_studio\", model=\"gemini/gemini-1.5-flash\", api_key=os.environ[\"GEMINI_API_KEY\"])\n",
        "cohere_llm = LLM(provider=\"cohere\", model=\"command\", api_key=os.environ[\"COHERE_API_KEY\"])\n",
        "\n",
        "# Tools\n",
        "search_tool = SerperDevTool()"
      ],
      "metadata": {
        "id": "-f1qvnoCY5Q2"
      },
      "execution_count": 42,
      "outputs": []
    },
    {
      "cell_type": "markdown",
      "source": [
        "### Agents"
      ],
      "metadata": {
        "id": "QOOvXdUc7dLQ"
      }
    },
    {
      "cell_type": "code",
      "source": [
        "# Agents\n",
        "book_agent = Agent(\n",
        "    role=\"Book Finder\",\n",
        "    goal=\"Find informative and free books related to a given topic.\",\n",
        "    backstory=\"You help users expand their knowledge by recommending relevant books (PDFs or from platforms like Zlibrary or PDF Drive).\",\n",
        "    llm=gemini_llm,\n",
        "    tools=[search_tool],\n",
        "    allow_delegation=False\n",
        ")\n",
        "\n",
        "podcast_agent = Agent(\n",
        "    role=\"Podcast Curator\",\n",
        "    goal=\"Find engaging podcasts that match the user's learning goals.\",\n",
        "    backstory=\"You're great at spotting valuable English podcasts in the user's topic.\",\n",
        "    llm=gemini_llm,\n",
        "    tools=[search_tool],\n",
        "    allow_delegation=False\n",
        ")\n",
        "\n",
        "youtube_agent = Agent(\n",
        "    role=\"YouTube Explorer\",\n",
        "    goal=\"Find educational YouTube videos and summaries for a topic.\",\n",
        "    backstory=\"You help users learn visually by recommending the best educational videos available.\",\n",
        "    llm=gemini_llm,\n",
        "    tools=[search_tool],\n",
        "    allow_delegation=False\n",
        ")\n"
      ],
      "metadata": {
        "id": "iqJrktTwY93T"
      },
      "execution_count": 43,
      "outputs": []
    },
    {
      "cell_type": "markdown",
      "source": [
        "### Tasks"
      ],
      "metadata": {
        "id": "tYb4FwfX7fF8"
      }
    },
    {
      "cell_type": "code",
      "execution_count": 44,
      "metadata": {
        "id": "xXTcmOtgYIQj"
      },
      "outputs": [],
      "source": [
        "book_task = Task(\n",
        "    description=\"Find 2 books or PDFs for topic: {topic}. Include title and access link if possible.\",\n",
        "    expected_output=\"List of books with links.\",\n",
        "    agent=book_agent\n",
        ")\n",
        "\n",
        "podcast_task = Task(\n",
        "    description=\"Find 2 podcast episodes related to topic: {topic}. Include link + short description.\",\n",
        "    expected_output=\"Podcast links + short context.\",\n",
        "    agent=podcast_agent\n",
        ")\n",
        "\n",
        "youtube_task = Task(\n",
        "    description=\"Find 2 YouTube videos that explain {topic} in English. Prefer summaries or simple explainers.\",\n",
        "    expected_output=\"List of videos with links and why they were selected.\",\n",
        "    agent=youtube_agent\n",
        ")\n"
      ]
    },
    {
      "cell_type": "markdown",
      "source": [
        "### Crew AI"
      ],
      "metadata": {
        "id": "hfyVf-dA7hMq"
      }
    },
    {
      "cell_type": "code",
      "source": [
        "# Crew\n",
        "crew = Crew(\n",
        "    agents=[book_agent, podcast_agent, youtube_agent],\n",
        "    tasks=[book_task, podcast_task, youtube_task],\n",
        "    verbose=False,\n",
        "    memory=False\n",
        ")\n",
        "\n",
        "\n"
      ],
      "metadata": {
        "id": "p_vfMK6wZDos"
      },
      "execution_count": 45,
      "outputs": []
    },
    {
      "cell_type": "code",
      "source": [
        "# Run Crew\n",
        "inputs = {\n",
        "    \"topic\": \"AI\"\n",
        "}\n"
      ],
      "metadata": {
        "id": "vt-2s2p3dUti"
      },
      "execution_count": 46,
      "outputs": []
    },
    {
      "cell_type": "markdown",
      "source": [
        "### output"
      ],
      "metadata": {
        "id": "3_MafjIw7o3s"
      }
    },
    {
      "cell_type": "code",
      "source": [
        "result = crew.kickoff(inputs=inputs)\n",
        "print(\"FINAL SUMMARY RESULT\")\n",
        "print(\"\\n\")\n",
        "print(result)"
      ],
      "metadata": {
        "colab": {
          "base_uri": "https://localhost:8080/"
        },
        "id": "lKm3gkjRZGi_",
        "outputId": "687b16f1-0f57-4ca9-aeed-6420df192a92"
      },
      "execution_count": 47,
      "outputs": [
        {
          "output_type": "stream",
          "name": "stdout",
          "text": [
            "FINAL SUMMARY RESULT\n",
            "\n",
            "\n",
            "1. **Google's AI Course for Beginners (in 10 minutes)!** - https://www.youtube.com/watch?v=Yq0QkCxoTHM&pp=0gcJCdgAo7VqN5tD\n",
            "\n",
            "   This video is selected because it's explicitly designed for beginners and promises a concise (10-minute) overview of AI.  The title and description suggest a simple explanation of fundamental concepts.\n",
            "\n",
            "\n",
            "2. **99% of Beginners Don't Know the Basics of AI** - https://www.youtube.com/watch?v=nVyD6THcvDQ&pp=0gcJCdgAo7VqN5tD\n",
            "\n",
            "   This video is chosen for its targeted audience (\"beginners\") and the intriguing title, suggesting it will address common misconceptions and provide a foundational understanding of AI.\n"
          ]
        }
      ]
    },
    {
      "cell_type": "code",
      "source": [
        "print(result.tasks_output)"
      ],
      "metadata": {
        "colab": {
          "base_uri": "https://localhost:8080/"
        },
        "id": "L2_O-72Gvkgg",
        "outputId": "9779909c-d492-4351-b637-47150223ca00"
      },
      "execution_count": 48,
      "outputs": [
        {
          "output_type": "stream",
          "name": "stdout",
          "text": [
            "[TaskOutput(description='Find 2 books or PDFs for topic: AI. Include title and access link if possible.', name=None, expected_output='List of books with links.', summary='Find 2 books or PDFs for topic: AI. Include title...', raw='1. **Artificial Intelligence: A Modern Approach:** [https://people.engr.tamu.edu/guni/csce625/slides/AI.pdf](https://people.engr.tamu.edu/guni/csce625/slides/AI.pdf)\\n\\n2. **Artificial Intelligence for Everyone:** [https://www.researchgate.net/publication/338843576_Artificial_Intelligence_for_Everyone](https://www.researchgate.net/publication/338843576_Artificial_Intelligence_for_Everyone)', pydantic=None, json_dict=None, agent='Book Finder', output_format=<OutputFormat.RAW: 'raw'>), TaskOutput(description='Find 2 podcast episodes related to topic: AI. Include link + short description.', name=None, expected_output='Podcast links + short context.', summary='Find 2 podcast episodes related to topic: AI. Include link...', raw='The provided search results offer many podcast options, but lack specific episode links.  To provide a complete answer with links and descriptions, more information is needed, such as specific podcasts to check for relevant episodes.  I need more direction.  For example, specifying a podcast from the list above would enable me to provide specific episodes and descriptions.', pydantic=None, json_dict=None, agent='Podcast Curator', output_format=<OutputFormat.RAW: 'raw'>), TaskOutput(description='Find 2 YouTube videos that explain AI in English. Prefer summaries or simple explainers.', name=None, expected_output='List of videos with links and why they were selected.', summary='Find 2 YouTube videos that explain AI in English. Prefer...', raw='1. **Google\\'s AI Course for Beginners (in 10 minutes)!** - https://www.youtube.com/watch?v=Yq0QkCxoTHM&pp=0gcJCdgAo7VqN5tD\\n\\n   This video is selected because it\\'s explicitly designed for beginners and promises a concise (10-minute) overview of AI.  The title and description suggest a simple explanation of fundamental concepts.\\n\\n\\n2. **99% of Beginners Don\\'t Know the Basics of AI** - https://www.youtube.com/watch?v=nVyD6THcvDQ&pp=0gcJCdgAo7VqN5tD\\n\\n   This video is chosen for its targeted audience (\"beginners\") and the intriguing title, suggesting it will address common misconceptions and provide a foundational understanding of AI.', pydantic=None, json_dict=None, agent='YouTube Explorer', output_format=<OutputFormat.RAW: 'raw'>)]\n"
          ]
        }
      ]
    },
    {
      "cell_type": "code",
      "source": [
        "def parse_crew_results(result):\n",
        "    outputs = {}\n",
        "    for task_output in result.tasks_output:\n",
        "        # Use the agent role or description as key\n",
        "        key = task_output.agent.lower().replace(\" \", \"_\")\n",
        "        outputs[key] = task_output.raw\n",
        "    return outputs\n"
      ],
      "metadata": {
        "id": "n2uwsijBigGK"
      },
      "execution_count": 51,
      "outputs": []
    },
    {
      "cell_type": "code",
      "source": [
        "outputs = parse_crew_results(result)\n",
        "\n",
        "print(\"Books:\\n\", outputs[0])\n",
        "print(\"Podcasts:\\n\", outputs[1])\n",
        "print(\"YouTube Videos:\\n\", outputs[2])"
      ],
      "metadata": {
        "colab": {
          "base_uri": "https://localhost:8080/"
        },
        "id": "7KzLer85vtda",
        "outputId": "8f25fa42-ab82-4a76-c8a0-c6733c8f78a9"
      },
      "execution_count": 50,
      "outputs": [
        {
          "output_type": "stream",
          "name": "stdout",
          "text": [
            "Books:\n",
            " 1. **Artificial Intelligence: A Modern Approach:** [https://people.engr.tamu.edu/guni/csce625/slides/AI.pdf](https://people.engr.tamu.edu/guni/csce625/slides/AI.pdf)\n",
            "\n",
            "2. **Artificial Intelligence for Everyone:** [https://www.researchgate.net/publication/338843576_Artificial_Intelligence_for_Everyone](https://www.researchgate.net/publication/338843576_Artificial_Intelligence_for_Everyone)\n",
            "Podcasts:\n",
            " The provided search results offer many podcast options, but lack specific episode links.  To provide a complete answer with links and descriptions, more information is needed, such as specific podcasts to check for relevant episodes.  I need more direction.  For example, specifying a podcast from the list above would enable me to provide specific episodes and descriptions.\n",
            "YouTube Videos:\n",
            " 1. **Google's AI Course for Beginners (in 10 minutes)!** - https://www.youtube.com/watch?v=Yq0QkCxoTHM&pp=0gcJCdgAo7VqN5tD\n",
            "\n",
            "   This video is selected because it's explicitly designed for beginners and promises a concise (10-minute) overview of AI.  The title and description suggest a simple explanation of fundamental concepts.\n",
            "\n",
            "\n",
            "2. **99% of Beginners Don't Know the Basics of AI** - https://www.youtube.com/watch?v=nVyD6THcvDQ&pp=0gcJCdgAo7VqN5tD\n",
            "\n",
            "   This video is chosen for its targeted audience (\"beginners\") and the intriguing title, suggesting it will address common misconceptions and provide a foundational understanding of AI.\n"
          ]
        }
      ]
    },
    {
      "cell_type": "markdown",
      "source": [
        "#### another trial"
      ],
      "metadata": {
        "id": "aEFOduCPwA6Z"
      }
    },
    {
      "cell_type": "code",
      "source": [
        "# result = crew.kickoff(inputs={\"topic\": \"football\"})\n",
        "# outputs = parse_crew_results(result)"
      ],
      "metadata": {
        "id": "qK8ILU7kpW4v"
      },
      "execution_count": 39,
      "outputs": []
    },
    {
      "cell_type": "code",
      "source": [
        "print(\"Books:\\n\", outputs[0])\n",
        "print(\"Podcasts:\\n\", outputs[1])\n",
        "print(\"YouTube Videos:\\n\", outputs[2])"
      ],
      "metadata": {
        "colab": {
          "base_uri": "https://localhost:8080/"
        },
        "id": "PYyYfefiqR6P",
        "outputId": "998f0dff-15b4-4048-8ee3-d4d2dc88a397"
      },
      "execution_count": 38,
      "outputs": [
        {
          "output_type": "stream",
          "name": "stdout",
          "text": [
            "Books:\n",
            " 1. **Title:** Football - Profile Books\n",
            "**Link:** https://profilebooks.com/wp-content/uploads/wpallimport/files/PDFs/9781781259221_preview.pdf\n",
            "\n",
            "2. **Title:** Football Stories - World Book Day\n",
            "**Link:** https://www.worldbookday.com/wp-content/uploads/2021/02/Football-Stories_compressed.pdf\n",
            "Podcasts:\n",
            " **Podcast 1:**\n",
            "\n",
            "* **Title:**  Micah's Star-Studded Trip, Acting Tips From Tom Cruise & Big Early Moves In The Transfer Window\n",
            "* **Link:** https://open.spotify.com/show/2fDn3EgvJZ5J1k5rrBwrlZ (This link goes to the main podcast page; individual episode links are unavailable without direct access to Spotify).\n",
            "* **Short Description:** This episode of \"The Rest Is Football\" likely features Gary Lineker, Alan Shearer, and Micah Richards discussing Micah's experiences, Tom Cruise's acting advice, and major transfer news in the football world.\n",
            "\n",
            "**Podcast 2:**\n",
            "\n",
            "* **Title:** Justin Kluivert: Embracing The Expectations, The ... (Title is incomplete from search results)\n",
            "* **Link:** https://open.spotify.com/show/2fDn3EgvJZ5J1k5rrBwrlZ (This link goes to the main podcast page; individual episode links are unavailable without direct access to Spotify).\n",
            "* **Short Description:**  This episode probably includes an interview with or discussion about Justin Kluivert,  a footballer, and his career path and challenges.  The incomplete title suggests more topics are discussed.\n",
            "YouTube Videos:\n",
            " Video 1: Rules Of American Football EXPLAINED FOR BEGINNERS - https://www.youtube.com/watch?v=6vmJZBtXDuU\n",
            "This video was selected because its title clearly indicates it's designed for beginners and focuses on explaining the rules of American football.\n",
            "\n",
            "Video 2: SPORTS 101 // Guide to American Football - https://www.youtube.com/watch?v=uM9iLQJzMO0\n",
            "This video was chosen because it is also described as a beginner's guide and provides a general overview of American football.  The title suggests a comprehensive approach.\n"
          ]
        }
      ]
    },
    {
      "cell_type": "markdown",
      "source": [
        "### Deployment with Gradio"
      ],
      "metadata": {
        "id": "zeH2rsAw7siz"
      }
    },
    {
      "cell_type": "code",
      "source": [
        "import gradio as gr\n",
        "from datetime import datetime\n",
        "import re\n",
        "import os\n",
        "\n",
        "def convert_to_markdown_links(text):\n",
        "\n",
        "    lines = text.strip().splitlines()\n",
        "    md_links = []\n",
        "    for line in lines:\n",
        "        url_match = re.search(r'(https?://\\S+)', line)\n",
        "        if url_match:\n",
        "            url = url_match.group(1)\n",
        "            title = line.replace(url, \"\").strip(\" -•–:\")\n",
        "            md_links.append(f\"- [{title if title else url}]({url})\")\n",
        "        else:\n",
        "            if line.strip():\n",
        "                md_links.append(f\"- {line.strip()}\")\n",
        "    return \"\\n\".join(md_links) if md_links else \"No results found.\"\n",
        "\n",
        "# --- CrewAI output parsing ---\n",
        "def parse_crew_results(result):\n",
        "    outputs = {\n",
        "        \"books_results\": \"No books found.\",\n",
        "        \"podcasts_results\": \"No podcasts found.\",\n",
        "        \"youtube_results\": \"No YouTube videos found.\",\n",
        "    }\n",
        "\n",
        "    for task_output in result.tasks_output:\n",
        "        agent_name = task_output.agent.lower()\n",
        "        if \"book\" in agent_name:\n",
        "            outputs[\"books_results\"] = task_output.raw.strip()\n",
        "        elif \"podcast\" in agent_name:\n",
        "            outputs[\"podcasts_results\"] = task_output.raw.strip()\n",
        "        elif \"youtube\" in agent_name:\n",
        "            outputs[\"youtube_results\"] = task_output.raw.strip()\n",
        "\n",
        "    return outputs[\"books_results\"], outputs[\"podcasts_results\"], outputs[\"youtube_results\"]\n",
        "\n",
        "# --- Gradio handler ---\n",
        "def run_crew_interface(topic):\n",
        "    if not topic:\n",
        "        return \"Please enter a topic.\", \"\", \"\", None\n",
        "\n",
        "    inputs = {\"topic\": topic}\n",
        "    result = crew.kickoff(inputs=inputs)\n",
        "\n",
        "    if not hasattr(result, \"tasks_output\") or not result.tasks_output:\n",
        "        return \"No result returned from Crew.\", \"\", \"\", None\n",
        "\n",
        "    books_raw, podcasts_raw, youtube_raw = parse_crew_results(result)\n",
        "\n",
        "    # Convert to clickable Markdown links\n",
        "    books_md = convert_to_markdown_links(books_raw)\n",
        "    podcasts_md = convert_to_markdown_links(podcasts_raw)\n",
        "    youtube_md = convert_to_markdown_links(youtube_raw)\n",
        "\n",
        "    # Markdown file content\n",
        "    markdown_report = f\"\"\"# 📘 Knowledge Booster Report\n",
        "\n",
        "**Topic:** {topic}\n",
        "**Generated on:** {datetime.now().strftime('%Y-%m-%d %H:%M:%S')}\n",
        "\n",
        "---\n",
        "\n",
        "## 📚 Books\n",
        "{books_md}\n",
        "\n",
        "---\n",
        "\n",
        "## 🎧 Podcasts\n",
        "{podcasts_md}\n",
        "\n",
        "---\n",
        "\n",
        "## 📺 YouTube Videos\n",
        "{youtube_md}\n",
        "\"\"\"\n",
        "\n",
        "    # Save file\n",
        "    file_path = f\"{topic.replace(' ', '_')}_report.md\"\n",
        "    with open(file_path, \"w\") as f:\n",
        "        f.write(markdown_report)\n",
        "\n",
        "    return books_md, podcasts_md, youtube_md, file_path\n",
        "\n",
        "# --- Build Gradio Interface ---\n",
        "with gr.Blocks(theme=gr.themes.Soft()) as demo:\n",
        "    gr.Markdown(\"## 🌟 Knowledge Booster with CrewAI\\nGet books, podcasts, and videos on any topic.\")\n",
        "\n",
        "    with gr.Row():\n",
        "        topic_input = gr.Textbox(label=\"Enter a Topic\", placeholder=\"e.g., Artificial Intelligence\", lines=1)\n",
        "        # run_btn = gr.Button(\"🔍 Search\")\n",
        "\n",
        "    with gr.Row():\n",
        "       run_btn = gr.Button(\"🔍 Search\")\n",
        "\n",
        "\n",
        "    with gr.Row():\n",
        "\n",
        "        gr.Markdown(\"## 📚 Books\")\n",
        "        gr.Markdown(\"## 🎧 Podcasts\")\n",
        "        gr.Markdown(\"## 📺 YouTube Videos\")\n",
        "\n",
        "\n",
        "    with gr.Row():\n",
        "        books_out = gr.Markdown(label=\"📚 Books\")\n",
        "        podcasts_out = gr.Markdown(label=\"🎧 Podcasts\")\n",
        "        youtube_out = gr.Markdown(label=\"📺 YouTube Videos\")\n",
        "\n",
        "\n",
        "    run_btn.click(\n",
        "          fn=run_crew_interface,\n",
        "          inputs=topic_input,\n",
        "          outputs=[books_out, podcasts_out, youtube_out]\n",
        "      )\n",
        "\n",
        "demo.launch()\n"
      ],
      "metadata": {
        "colab": {
          "base_uri": "https://localhost:8080/",
          "height": 647
        },
        "id": "BffMrkuUrtsf",
        "outputId": "b48cc5ee-a804-4d5c-c1a4-1a9806da1d22"
      },
      "execution_count": 68,
      "outputs": [
        {
          "output_type": "stream",
          "name": "stdout",
          "text": [
            "It looks like you are running Gradio on a hosted a Jupyter notebook. For the Gradio app to work, sharing must be enabled. Automatically setting `share=True` (you can turn this off by setting `share=False` in `launch()` explicitly).\n",
            "\n",
            "Colab notebook detected. To show errors in colab notebook, set debug=True in launch()\n",
            "* Running on public URL: https://c6456613afce190cd0.gradio.live\n",
            "\n",
            "This share link expires in 1 week. For free permanent hosting and GPU upgrades, run `gradio deploy` from the terminal in the working directory to deploy to Hugging Face Spaces (https://huggingface.co/spaces)\n"
          ]
        },
        {
          "output_type": "display_data",
          "data": {
            "text/plain": [
              "<IPython.core.display.HTML object>"
            ],
            "text/html": [
              "<div><iframe src=\"https://c6456613afce190cd0.gradio.live\" width=\"100%\" height=\"500\" allow=\"autoplay; camera; microphone; clipboard-read; clipboard-write;\" frameborder=\"0\" allowfullscreen></iframe></div>"
            ]
          },
          "metadata": {}
        },
        {
          "output_type": "execute_result",
          "data": {
            "text/plain": []
          },
          "metadata": {},
          "execution_count": 68
        }
      ]
    }
  ]
}